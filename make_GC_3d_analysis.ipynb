{
 "cells": [
  {
   "cell_type": "code",
   "execution_count": 1,
   "metadata": {},
   "outputs": [],
   "source": [
    "\"\"\"3D analysis of the Galactic Center DC1 dataset.\n",
    "Here all the models are defined and \n",
    "The cubes/maps (counts, exposure, background) \n",
    "and IRFs (EDISP, PSF) were already produced by the make_maps_IRFs.py code\n",
    "\"\"\"\n",
    "%matplotlib inline\n",
    "import matplotlib.pyplot as plt\n",
    "import logging\n",
    "import os,time\n",
    "from pathlib import Path\n",
    "import numpy as np\n",
    "import astropy.units as u\n",
    "from astropy.table import Table, vstack\n",
    "from regions import CircleSkyRegion\n",
    "from astropy.coordinates import SkyCoord\n",
    "from gammapy.data import DataStore\n",
    "from gammapy.irf import EnergyDispersion\n",
    "from gammapy.maps import Map, WcsGeom, MapAxis, WcsNDMap\n",
    "from gammapy.cube import MapMaker, MapEvaluator, MapFit, PSFKernel\n",
    "from gammapy.cube.models import SkyModel, SkyDiffuseCube\n",
    "from gammapy.spectrum.models import PowerLaw, ExponentialCutoffPowerLaw, LogParabola\n",
    "from gammapy.image.models import SkyDisk, SkyShell, SkyDiffuseMap, SkyGaussian, SkyPointSource, SkyDiffuseMap\n",
    "\n",
    "log = logging.getLogger()"
   ]
  },
  {
   "cell_type": "markdown",
   "metadata": {},
   "source": [
    "## Setup"
   ]
  },
  {
   "cell_type": "code",
   "execution_count": 2,
   "metadata": {},
   "outputs": [],
   "source": [
    "target_glon = 359.944 * u.deg  #actual SgrA* position\n",
    "target_glat = -0.046 * u.deg\n",
    "# target_radius = 0.5 * u.deg\n",
    "target_skycoord = SkyCoord(target_glon, target_glat, frame=\"galactic\")\n",
    "\n",
    "on_radius = 1 * u.deg\n",
    "on_region = CircleSkyRegion(target_skycoord, on_radius)\n",
    "\n",
    "offset_max = 10 * u.deg\n",
    "\n",
    "# energy_min = 0.1 * u.TeV\n",
    "# energy_max = 160 * u.TeV\n",
    "# energy_nbins = 35\n",
    "# energy_bins = np.logspace(\n",
    "#     start=np.log10(energy_min.value),\n",
    "#     stop=np.log10(energy_max.value),\n",
    "#     num=energy_nbins,\n",
    "# )\n",
    "\n",
    "energy_axis = MapAxis.from_bounds(\n",
    "    0.1, 160, 35, unit=\"TeV\", name=\"energy\", interp=\"log\"\n",
    ")\n",
    "map_geom = WcsGeom.create(\n",
    "    skydir=target_skycoord,\n",
    "    width=(8, 8),\n",
    "    binsz=0.02,\n",
    "    coordsys=\"GAL\",\n",
    "    axes=[energy_axis],\n",
    ")"
   ]
  },
  {
   "cell_type": "markdown",
   "metadata": {},
   "source": [
    "## Read maps and IRFs"
   ]
  },
  {
   "cell_type": "code",
   "execution_count": 3,
   "metadata": {},
   "outputs": [],
   "source": [
    "#read maps\n",
    "counts = Map.read(\"counts_cube.fits.gz\")\n",
    "background = Map.read(\"background_cube.fits.gz\")\n",
    "exposure=Map.read(\"exposure_cube.fits.gz\")\n",
    "\n",
    "#read IRFs\n",
    "psf_kernel = PSFKernel.read(\"psf.fits.gz\")\n",
    "edisp = EnergyDispersion.read(\"edisp.fits.gz\")"
   ]
  },
  {
   "cell_type": "markdown",
   "metadata": {},
   "source": [
    "## Make IEM and Fermi Bubble cutout and reproject\n",
    "We need to do this in order to use IEM or Fermi Bubble in our fitting model."
   ]
  },
  {
   "cell_type": "code",
   "execution_count": 4,
   "metadata": {},
   "outputs": [],
   "source": [
    "iem_filename = \"iem_cube_cutout.fits.gz\"\n",
    "if os.path.isfile(iem_filename) == False:\n",
    "    log.info(f\"Producing cutout map for IEM and writing {iem_filename}\")\n",
    "    map_geom.to_image()\n",
    "    m = Map.read(\"$CTADATA/models/cube_iem.fits.gz\")\n",
    "    m = m.reproject(map_geom.to_image())\n",
    "    m.write(iem_filename, overwrite=True)\n",
    "    \n",
    "fermibb_filename = \"fermi_bubbles_map_cutout.fits.gz\"\n",
    "if os.path.isfile(fermibb_filename) == False:\n",
    "    log.info(f\"Producing cutout map for Fermi Bubbles and writing {fermibb_filename}\")\n",
    "    map_geom.to_image()\n",
    "    n = Map.read(\"$CTADATA/models/map_fermi_bubbles.fits.gz\")\n",
    "    n = n.reproject(map_geom.to_image())\n",
    "    n.write(fermibb_filename, overwrite=True)"
   ]
  },
  {
   "cell_type": "markdown",
   "metadata": {},
   "source": [
    "## Make model maps"
   ]
  },
  {
   "cell_type": "code",
   "execution_count": 5,
   "metadata": {},
   "outputs": [],
   "source": [
    "#IEM:\n",
    "model_iem = SkyDiffuseCube.read(\"iem_cube_cutout.fits.gz\")\n",
    "\n",
    "#Fermi Bubbles\n",
    "model_fermibb = SkyModel(\n",
    "    SkyDiffuseMap(map=Map.read(fermibb_filename), norm=1, normalize=True),\n",
    "    LogParabola(alpha=1.6, beta=0.09,  amplitude='0.5e-11 cm-2 s-1 TeV-1', reference='1 TeV' )\n",
    ") \n",
    "\n",
    "#GC source / J1745-290\n",
    "model_gc = SkyModel(\n",
    "    SkyPointSource(\"0.01d\", \"0.01d\"),\n",
    "    ExponentialCutoffPowerLaw(amplitude=\"1e-12 cm-2 s-1 TeV-1\", index=1.0, reference=\"1 TeV\", lambda_=1 / u.TeV)\n",
    ")\n",
    "\n",
    "# in order to set min and max, the fit cannot autoscale, or it needs to autoscale the min and max as well. \n",
    "#model_gc.parameters[\"lat_0\"].scale = 1\n",
    "#model_gc.parameters[\"lat_0\"].min = -0.2  #*1e-2 \n",
    "#model_gc.parameters[\"lat_0\"].max = 0.2\n",
    "#model_gc.parameters[\"lon_0\"].scale = 1\n",
    "#model_gc.parameters[\"lon_0\"].min = -0.2 \n",
    "#model_gc.parameters[\"lon_0\"].max = 0.2\n",
    "\n",
    "\n",
    "\n",
    "#G0.9+0.1\n",
    "model_G09 = SkyModel(\n",
    "    SkyPointSource(\"0.9d\", \"0.1d\"),\n",
    "    PowerLaw(amplitude=\"1e-12 cm-2 s-1 TeV-1\", index=1.0, reference=\"1 TeV\")\n",
    ")\n",
    "\n",
    "#model_G09.parameters[\"lat_0\"].scale = 1\n",
    "#model_G09.parameters[\"lat_0\"].min = 0.7 \n",
    "#model_G09.parameters[\"lat_0\"].max = 1.1\n",
    "#model_G09.parameters[\"lon_0\"].scale = 1\n",
    "#model_G09.parameters[\"lon_0\"].min = -0.1 \n",
    "#model_G09.parameters[\"lon_0\"].max = 0.3\n",
    "\n",
    "\n",
    "#HESS J1745-303\n",
    "model_J1745_303 = SkyModel( \n",
    "    SkyGaussian(\"358.872d\", \"-0.578d\", sigma=\"0.2 deg\"),\n",
    "    PowerLaw(amplitude=\"1e-12 cm-2 s-1 TeV-1\", index=1.0, reference=\"1 TeV\")\n",
    ")"
   ]
  },
  {
   "cell_type": "markdown",
   "metadata": {},
   "source": [
    "## Fit mask and map cutout\n",
    "First we are cutting out only a part of the maps, so that the fitting procedure does not take too long."
   ]
  },
  {
   "cell_type": "code",
   "execution_count": 7,
   "metadata": {},
   "outputs": [],
   "source": [
    "cmaps = {\n",
    "    \"counts\": counts.cutout(SkyCoord(0, 0, unit=\"deg\", frame=\"galactic\"), 4 * u.deg),\n",
    "    \"background\": background.cutout(SkyCoord(0, 0, unit=\"deg\", frame=\"galactic\"), 4 * u.deg),\n",
    "    \"exposure\": exposure.cutout(SkyCoord(0, 0, unit=\"deg\", frame=\"galactic\"), 4 * u.deg),\n",
    "}\n",
    "#cmaps[\"counts\"].sum_over_axes().plot(stretch=\"sqrt\");"
   ]
  },
  {
   "cell_type": "markdown",
   "metadata": {},
   "source": [
    "Spatial masks:"
   ]
  },
  {
   "cell_type": "code",
   "execution_count": 8,
   "metadata": {},
   "outputs": [
    {
     "data": {
      "text/plain": [
       "(<matplotlib.figure.Figure at 0x7fc237e03978>,\n",
       " <matplotlib.axes._subplots.WCSAxesSubplot at 0x7fc237dc6cf8>,\n",
       " None)"
      ]
     },
     "execution_count": 8,
     "metadata": {},
     "output_type": "execute_result"
    },
    {
     "data": {
      "image/png": "[encoded data removed]",
      "text/plain": [
       "<matplotlib.figure.Figure at 0x7fc237e03978>"
      ]
     },
     "metadata": {
      "needs_background": "light"
     },
     "output_type": "display_data"
    }
   ],
   "source": [
    "# GC mask\n",
    "mask_gc = Map.from_geom(cmaps[\"counts\"].geom)\n",
    "region_gc = CircleSkyRegion(center=target_skycoord, radius=0.6 * u.deg)\n",
    "mask_gc.data = mask_gc.geom.region_mask([region_gc])\n",
    "\n",
    "# G0.9 mask\n",
    "mask_G09 = Map.from_geom(cmaps[\"counts\"].geom)\n",
    "region_G09 = CircleSkyRegion(center=SkyCoord(0.87 * u.deg, 0.07 * u.deg, frame=\"galactic\"), radius=0.15 * u.deg)\n",
    "mask_G09.data = mask_G09.geom.region_mask([region_G09])\n",
    "\n",
    "# HESS J1745-303 mask\n",
    "mask_J1745_303 = Map.from_geom(cmaps[\"counts\"].geom)\n",
    "region_J1745_303 = CircleSkyRegion(center=SkyCoord(358.872 * u.deg, -0.578 * u.deg, frame=\"galactic\"), radius=0.6 * u.deg)\n",
    "mask_J1745_303.data = mask_J1745_303.geom.region_mask([region_J1745_303])\n",
    "\n",
    "mask_J1745_303.get_image_by_idx((0,)).plot()"
   ]
  },
  {
   "cell_type": "markdown",
   "metadata": {},
   "source": [
    "Spectral mask (above 0.3 TeV):"
   ]
  },
  {
   "cell_type": "code",
   "execution_count": 9,
   "metadata": {},
   "outputs": [],
   "source": [
    "coords = mask_gc.geom.get_coord()\n",
    "mask_gc.data &= coords[\"energy\"] > 0.3\n",
    "mask_G09.data &= coords[\"energy\"] > 0.3\n",
    "mask_J1745_303.data &= coords[\"energy\"] > 0.3"
   ]
  },
  {
   "cell_type": "markdown",
   "metadata": {},
   "source": [
    "## Fitting point sources: GC and G0.9+0.1"
   ]
  },
  {
   "cell_type": "code",
   "execution_count": 10,
   "metadata": {},
   "outputs": [],
   "source": [
    "model_point = model_gc #+ model_G09\n",
    "#model_point.parameters.apply_autoscale = False   # first try shows a lot of RuntimeWarnings and fit does not converge\n",
    "fit = MapFit(\n",
    "    model=model_point,\n",
    "    counts=cmaps[\"counts\"],\n",
    "    exposure=cmaps[\"exposure\"],\n",
    "    background=cmaps[\"background\"],\n",
    "    mask=mask_gc,\n",
    "    psf=psf_kernel,\n",
    "    edisp=edisp,\n",
    ")"
   ]
  },
  {
   "cell_type": "code",
   "execution_count": 11,
   "metadata": {
    "scrolled": false
   },
   "outputs": [
    {
     "data": {
      "text/html": [
       "<hr>"
      ]
     },
     "metadata": {},
     "output_type": "display_data"
    },
    {
     "data": {
      "text/html": [
       "<table>\n",
       "    <tr>\n",
       "        <td title=\"Minimum value of function\">FCN = -4564970.32517259</td>\n",
       "        <td title=\"Total number of call to FCN so far\">TOTAL NCALL = 294</td>\n",
       "        <td title=\"Number of call in last migrad\">NCALLS = 294</td>\n",
       "    </tr>\n",
       "    <tr>\n",
       "        <td title=\"Estimated distance to minimum\">EDM = 2.75604002596717e-05</td>\n",
       "        <td title=\"Maximum EDM definition of convergence\">GOAL EDM = 1e-05</td>\n",
       "        <td title=\"Error def. Amount of increase in FCN to be defined as 1 standard deviation\">\n",
       "        UP = 1.0</td>\n",
       "    </tr>\n",
       "</table>\n",
       "<table>\n",
       "    <tr>\n",
       "        <td align=\"center\" title=\"Validity of the migrad call\">Valid</td>\n",
       "        <td align=\"center\" title=\"Validity of parameters\">Valid Param</td>\n",
       "        <td align=\"center\" title=\"Is Covariance matrix accurate?\">Accurate Covar</td>\n",
       "        <td align=\"center\" title=\"Positive definiteness of covariance matrix\">PosDef</td>\n",
       "        <td align=\"center\" title=\"Was covariance matrix made posdef by adding diagonal element\">Made PosDef</td>\n",
       "    </tr>\n",
       "    <tr>\n",
       "        <td align=\"center\" style=\"background-color:#92CCA6\">True</td>\n",
       "        <td align=\"center\" style=\"background-color:#92CCA6\">True</td>\n",
       "        <td align=\"center\" style=\"background-color:#92CCA6\">True</td>\n",
       "        <td align=\"center\" style=\"background-color:#92CCA6\">True</td>\n",
       "        <td align=\"center\" style=\"background-color:#92CCA6\">False</td>\n",
       "    </tr>\n",
       "    <tr>\n",
       "        <td align=\"center\" title=\"Was last hesse call fail?\">Hesse Fail</td>\n",
       "        <td align=\"center\" title=\"Validity of covariance\">HasCov</td>\n",
       "        <td align=\"center\" title=\"Is EDM above goal EDM?\">Above EDM</td>\n",
       "        <td align=\"center\"></td>\n",
       "        <td align=\"center\" title=\"Did last migrad call reach max call limit?\">Reach calllim</td>\n",
       "    </tr>\n",
       "    <tr>\n",
       "        <td align=\"center\" style=\"background-color:#92CCA6\">False</td>\n",
       "        <td align=\"center\" style=\"background-color:#92CCA6\">True</td>\n",
       "        <td align=\"center\" style=\"background-color:#92CCA6\">False</td>\n",
       "        <td align=\"center\"></td>\n",
       "        <td align=\"center\" style=\"background-color:#92CCA6\">False</td>\n",
       "    </tr>\n",
       "</table>"
      ]
     },
     "metadata": {},
     "output_type": "display_data"
    },
    {
     "data": {
      "text/html": [
       "<table>\n",
       "    <tr>\n",
       "        <td><a href=\"#\" onclick=\"$('#csuccWdDkf').toggle()\">+</a></td>\n",
       "        <td title=\"Variable name\">Name</td>\n",
       "        <td title=\"Value of parameter\">Value</td>\n",
       "        <td title=\"Hesse error\">Hesse Error</td>\n",
       "        <td title=\"Minos lower error\">Minos Error-</td>\n",
       "        <td title=\"Minos upper error\">Minos Error+</td>\n",
       "        <td title=\"Lower limit of the parameter\">Limit-</td>\n",
       "        <td title=\"Upper limit of the parameter\">Limit+</td>\n",
       "        <td title=\"Is the parameter fixed in the fit\">Fixed?</td>\n",
       "    </tr>\n",
       "    <tr>\n",
       "        <td>0</td>\n",
       "        <td>par_000_lon_0</td>\n",
       "        <td>-5.51909</td>\n",
       "        <td>0.01121</td>\n",
       "        <td></td>\n",
       "        <td></td>\n",
       "        <td></td>\n",
       "        <td></td>\n",
       "        <td>No</td>\n",
       "    </tr>\n",
       "    <tr>\n",
       "        <td>1</td>\n",
       "        <td>par_001_lat_0</td>\n",
       "        <td>-4.63434</td>\n",
       "        <td>0.0112846</td>\n",
       "        <td></td>\n",
       "        <td></td>\n",
       "        <td></td>\n",
       "        <td></td>\n",
       "        <td>No</td>\n",
       "    </tr>\n",
       "    <tr>\n",
       "        <td>2</td>\n",
       "        <td>par_002_index</td>\n",
       "        <td>2.19024</td>\n",
       "        <td>0.00495173</td>\n",
       "        <td></td>\n",
       "        <td></td>\n",
       "        <td></td>\n",
       "        <td></td>\n",
       "        <td>No</td>\n",
       "    </tr>\n",
       "    <tr>\n",
       "        <td>3</td>\n",
       "        <td>par_003_amplitude</td>\n",
       "        <td>3.1242</td>\n",
       "        <td>0.0128328</td>\n",
       "        <td></td>\n",
       "        <td></td>\n",
       "        <td></td>\n",
       "        <td></td>\n",
       "        <td>No</td>\n",
       "    </tr>\n",
       "    <tr>\n",
       "        <td>4</td>\n",
       "        <td>par_004_reference</td>\n",
       "        <td>1</td>\n",
       "        <td>1</td>\n",
       "        <td></td>\n",
       "        <td></td>\n",
       "        <td></td>\n",
       "        <td></td>\n",
       "        <td>Yes</td>\n",
       "    </tr>\n",
       "    <tr>\n",
       "        <td>5</td>\n",
       "        <td>par_005_lambda_</td>\n",
       "        <td>0.081097</td>\n",
       "        <td>0.00179238</td>\n",
       "        <td></td>\n",
       "        <td></td>\n",
       "        <td></td>\n",
       "        <td></td>\n",
       "        <td>No</td>\n",
       "    </tr>\n",
       "</table>\n",
       "<pre id=\"csuccWdDkf\" style=\"display:none;\">\n",
       "<textarea rows=\"18\" cols=\"50\" onclick=\"this.select()\" readonly>\n",
       "\\begin{tabular}{|c|r|r|r|r|r|r|r|c|}\n",
       "\\hline\n",
       " & Name & Value & Hesse Error & Minos Error- & Minos Error+ & Limit- & Limit+ & Fixed?\\\\\n",
       "\\hline\n",
       "0 & par 000 $lon_{0}$ & -5.51909 & 0.01121 &  &  &  &  & No\\\\\n",
       "\\hline\n",
       "1 & par 001 $lat_{0}$ & -4.63434 & 0.0112846 &  &  &  &  & No\\\\\n",
       "\\hline\n",
       "2 & par $002_{index}$ & 2.19024 & 0.00495173 &  &  &  &  & No\\\\\n",
       "\\hline\n",
       "3 & par $003_{amplitude}$ & 3.1242 & 0.0128328 &  &  &  &  & No\\\\\n",
       "\\hline\n",
       "4 & par $004_{reference}$ & 1 & 1 &  &  &  &  & Yes\\\\\n",
       "\\hline\n",
       "5 & par 005 $\\lambda_{}$ & 0.081097 & 0.00179238 &  &  &  &  & No\\\\\n",
       "\\hline\n",
       "\\end{tabular}\n",
       "</textarea>\n",
       "</pre>"
      ]
     },
     "metadata": {},
     "output_type": "display_data"
    },
    {
     "data": {
      "text/html": [
       "<hr>"
      ]
     },
     "metadata": {},
     "output_type": "display_data"
    },
    {
     "name": "stdout",
     "output_type": "stream",
     "text": [
      "CPU times: user 2min 20s, sys: 699 ms, total: 2min 20s\n",
      "Wall time: 2min 21s\n"
     ]
    }
   ],
   "source": [
    "%%time\n",
    "result = fit.run(optimize_opts={\"print_level\": 1})\n",
    "#result = fit.run()\n",
    "\n",
    "#print(result.model)"
   ]
  },
  {
   "cell_type": "code",
   "execution_count": 12,
   "metadata": {},
   "outputs": [
    {
     "name": "stdout",
     "output_type": "stream",
     "text": [
      "SkyModel\n",
      "\n",
      "spatial_model = SkyPointSource\n",
      "\n",
      "Parameters: \n",
      "\n",
      "\t name   value      error   unit min max\n",
      "\t----- ---------- --------- ---- --- ---\n",
      "\tlon_0 -5.519e-02 1.121e-04  deg nan nan\n",
      "\tlat_0 -4.634e-02 1.128e-04  deg nan nan\n",
      "\n",
      "Covariance: \n",
      "\n",
      "\t name   lon_0     lat_0  \n",
      "\t----- --------- ---------\n",
      "\tlon_0 1.257e-08 5.854e-11\n",
      "\tlat_0 5.854e-11 1.273e-08\n",
      "\n",
      "spectral_model = ExponentialCutoffPowerLaw\n",
      "\n",
      "Parameters: \n",
      "\n",
      "\t   name     value     error         unit      min max\n",
      "\t--------- --------- --------- --------------- --- ---\n",
      "\t    index 2.190e+00 4.952e-03                 nan nan\n",
      "\tamplitude 3.124e-12 1.283e-14 1 / (cm2 s TeV) nan nan\n",
      "\treference 1.000e+00 0.000e+00             TeV nan nan\n",
      "\t  lambda_ 8.110e-02 1.792e-03         1 / TeV nan nan\n",
      "\n",
      "Covariance: \n",
      "\n",
      "\t   name     index    amplitude  reference  lambda_  \n",
      "\t--------- ---------- ---------- --------- ----------\n",
      "\t    index  2.452e-05 -3.478e-17 0.000e+00 -7.161e-06\n",
      "\tamplitude -3.478e-17  1.647e-28 0.000e+00  1.672e-17\n",
      "\treference  0.000e+00  0.000e+00 0.000e+00  0.000e+00\n",
      "\t  lambda_ -7.161e-06  1.672e-17 0.000e+00  3.213e-06\n",
      "\n"
     ]
    }
   ],
   "source": [
    "#model_point = result.model + model_G09\n",
    "#\n",
    "#params = model_point.model1.parameters\n",
    "#for x in params:\n",
    "#    x.frozen = True\n",
    "print(result.model)\n"
   ]
  },
  {
   "cell_type": "code",
   "execution_count": 13,
   "metadata": {},
   "outputs": [],
   "source": [
    "fit_2 = MapFit(\n",
    "    model=model_G09,\n",
    "    counts=cmaps[\"counts\"],\n",
    "    exposure=cmaps[\"exposure\"],\n",
    "    background=cmaps[\"background\"],\n",
    "    mask=mask_G09,\n",
    "    psf=psf_kernel,\n",
    "    edisp=edisp,\n",
    ")"
   ]
  },
  {
   "cell_type": "code",
   "execution_count": 14,
   "metadata": {},
   "outputs": [
    {
     "data": {
      "text/html": [
       "<hr>"
      ]
     },
     "metadata": {},
     "output_type": "display_data"
    },
    {
     "data": {
      "text/html": [
       "<table>\n",
       "    <tr>\n",
       "        <td title=\"Minimum value of function\">FCN = -671735.2442133665</td>\n",
       "        <td title=\"Total number of call to FCN so far\">TOTAL NCALL = 286</td>\n",
       "        <td title=\"Number of call in last migrad\">NCALLS = 286</td>\n",
       "    </tr>\n",
       "    <tr>\n",
       "        <td title=\"Estimated distance to minimum\">EDM = 2.035711285357684e-05</td>\n",
       "        <td title=\"Maximum EDM definition of convergence\">GOAL EDM = 1e-05</td>\n",
       "        <td title=\"Error def. Amount of increase in FCN to be defined as 1 standard deviation\">\n",
       "        UP = 1.0</td>\n",
       "    </tr>\n",
       "</table>\n",
       "<table>\n",
       "    <tr>\n",
       "        <td align=\"center\" title=\"Validity of the migrad call\">Valid</td>\n",
       "        <td align=\"center\" title=\"Validity of parameters\">Valid Param</td>\n",
       "        <td align=\"center\" title=\"Is Covariance matrix accurate?\">Accurate Covar</td>\n",
       "        <td align=\"center\" title=\"Positive definiteness of covariance matrix\">PosDef</td>\n",
       "        <td align=\"center\" title=\"Was covariance matrix made posdef by adding diagonal element\">Made PosDef</td>\n",
       "    </tr>\n",
       "    <tr>\n",
       "        <td align=\"center\" style=\"background-color:#92CCA6\">True</td>\n",
       "        <td align=\"center\" style=\"background-color:#92CCA6\">True</td>\n",
       "        <td align=\"center\" style=\"background-color:#92CCA6\">True</td>\n",
       "        <td align=\"center\" style=\"background-color:#92CCA6\">True</td>\n",
       "        <td align=\"center\" style=\"background-color:#92CCA6\">False</td>\n",
       "    </tr>\n",
       "    <tr>\n",
       "        <td align=\"center\" title=\"Was last hesse call fail?\">Hesse Fail</td>\n",
       "        <td align=\"center\" title=\"Validity of covariance\">HasCov</td>\n",
       "        <td align=\"center\" title=\"Is EDM above goal EDM?\">Above EDM</td>\n",
       "        <td align=\"center\"></td>\n",
       "        <td align=\"center\" title=\"Did last migrad call reach max call limit?\">Reach calllim</td>\n",
       "    </tr>\n",
       "    <tr>\n",
       "        <td align=\"center\" style=\"background-color:#92CCA6\">False</td>\n",
       "        <td align=\"center\" style=\"background-color:#92CCA6\">True</td>\n",
       "        <td align=\"center\" style=\"background-color:#92CCA6\">False</td>\n",
       "        <td align=\"center\"></td>\n",
       "        <td align=\"center\" style=\"background-color:#92CCA6\">False</td>\n",
       "    </tr>\n",
       "</table>"
      ]
     },
     "metadata": {},
     "output_type": "display_data"
    },
    {
     "data": {
      "text/html": [
       "<table>\n",
       "    <tr>\n",
       "        <td><a href=\"#\" onclick=\"$('#BphMOSXgPf').toggle()\">+</a></td>\n",
       "        <td title=\"Variable name\">Name</td>\n",
       "        <td title=\"Value of parameter\">Value</td>\n",
       "        <td title=\"Hesse error\">Hesse Error</td>\n",
       "        <td title=\"Minos lower error\">Minos Error-</td>\n",
       "        <td title=\"Minos upper error\">Minos Error+</td>\n",
       "        <td title=\"Lower limit of the parameter\">Limit-</td>\n",
       "        <td title=\"Upper limit of the parameter\">Limit+</td>\n",
       "        <td title=\"Is the parameter fixed in the fit\">Fixed?</td>\n",
       "    </tr>\n",
       "    <tr>\n",
       "        <td>0</td>\n",
       "        <td>par_000_lon_0</td>\n",
       "        <td>0.863329</td>\n",
       "        <td>0.00017255</td>\n",
       "        <td></td>\n",
       "        <td></td>\n",
       "        <td></td>\n",
       "        <td></td>\n",
       "        <td>No</td>\n",
       "    </tr>\n",
       "    <tr>\n",
       "        <td>1</td>\n",
       "        <td>par_001_lat_0</td>\n",
       "        <td>0.902297</td>\n",
       "        <td>0.00171269</td>\n",
       "        <td></td>\n",
       "        <td></td>\n",
       "        <td></td>\n",
       "        <td></td>\n",
       "        <td>No</td>\n",
       "    </tr>\n",
       "    <tr>\n",
       "        <td>2</td>\n",
       "        <td>par_002_index</td>\n",
       "        <td>2.43493</td>\n",
       "        <td>0.00403946</td>\n",
       "        <td></td>\n",
       "        <td></td>\n",
       "        <td></td>\n",
       "        <td></td>\n",
       "        <td>No</td>\n",
       "    </tr>\n",
       "    <tr>\n",
       "        <td>3</td>\n",
       "        <td>par_003_amplitude</td>\n",
       "        <td>1.25745</td>\n",
       "        <td>0.00551921</td>\n",
       "        <td></td>\n",
       "        <td></td>\n",
       "        <td></td>\n",
       "        <td></td>\n",
       "        <td>No</td>\n",
       "    </tr>\n",
       "    <tr>\n",
       "        <td>4</td>\n",
       "        <td>par_004_reference</td>\n",
       "        <td>1</td>\n",
       "        <td>1</td>\n",
       "        <td></td>\n",
       "        <td></td>\n",
       "        <td>0</td>\n",
       "        <td></td>\n",
       "        <td>Yes</td>\n",
       "    </tr>\n",
       "</table>\n",
       "<pre id=\"BphMOSXgPf\" style=\"display:none;\">\n",
       "<textarea rows=\"16\" cols=\"50\" onclick=\"this.select()\" readonly>\n",
       "\\begin{tabular}{|c|r|r|r|r|r|r|r|c|}\n",
       "\\hline\n",
       " & Name & Value & Hesse Error & Minos Error- & Minos Error+ & Limit- & Limit+ & Fixed?\\\\\n",
       "\\hline\n",
       "0 & par 000 $lon_{0}$ & 0.863329 & 0.00017255 &  &  &  &  & No\\\\\n",
       "\\hline\n",
       "1 & par 001 $lat_{0}$ & 0.902297 & 0.00171269 &  &  &  &  & No\\\\\n",
       "\\hline\n",
       "2 & par $002_{index}$ & 2.43493 & 0.00403946 &  &  &  &  & No\\\\\n",
       "\\hline\n",
       "3 & par $003_{amplitude}$ & 1.25745 & 0.00551921 &  &  &  &  & No\\\\\n",
       "\\hline\n",
       "4 & par $004_{reference}$ & 1 & 1 &  &  & 0.0 &  & Yes\\\\\n",
       "\\hline\n",
       "\\end{tabular}\n",
       "</textarea>\n",
       "</pre>"
      ]
     },
     "metadata": {},
     "output_type": "display_data"
    },
    {
     "data": {
      "text/html": [
       "<hr>"
      ]
     },
     "metadata": {},
     "output_type": "display_data"
    },
    {
     "name": "stdout",
     "output_type": "stream",
     "text": [
      "CPU times: user 1min 50s, sys: 380 ms, total: 1min 50s\n",
      "Wall time: 1min 51s\n"
     ]
    }
   ],
   "source": [
    "%%time\n",
    "result_2 = fit_2.run(optimize_opts={\"print_level\": 1})"
   ]
  },
  {
   "cell_type": "code",
   "execution_count": 15,
   "metadata": {},
   "outputs": [
    {
     "name": "stdout",
     "output_type": "stream",
     "text": [
      "SkyModel\n",
      "\n",
      "spatial_model = SkyPointSource\n",
      "\n",
      "Parameters: \n",
      "\n",
      "\t name   value     error   unit min max\n",
      "\t----- --------- --------- ---- --- ---\n",
      "\tlon_0 8.633e-01 1.725e-04  deg nan nan\n",
      "\tlat_0 9.023e-02 1.713e-04  deg nan nan\n",
      "\n",
      "Covariance: \n",
      "\n",
      "\t name   lon_0      lat_0   \n",
      "\t----- ---------- ----------\n",
      "\tlon_0  2.977e-08 -1.629e-10\n",
      "\tlat_0 -1.629e-10  2.933e-08\n",
      "\n",
      "spectral_model = PowerLaw\n",
      "\n",
      "Parameters: \n",
      "\n",
      "\t   name     value     error         unit         min    max\n",
      "\t--------- --------- --------- --------------- --------- ---\n",
      "\t    index 2.435e+00 4.039e-03                       nan nan\n",
      "\tamplitude 1.257e-12 5.519e-15 1 / (cm2 s TeV)       nan nan\n",
      "\treference 1.000e+00 0.000e+00             TeV 0.000e+00 nan\n",
      "\n",
      "Covariance: \n",
      "\n",
      "\t   name     index   amplitude reference\n",
      "\t--------- --------- --------- ---------\n",
      "\t    index 1.632e-05 2.278e-18 0.000e+00\n",
      "\tamplitude 2.278e-18 3.046e-29 0.000e+00\n",
      "\treference 0.000e+00 0.000e+00 0.000e+00\n",
      "\n"
     ]
    }
   ],
   "source": [
    "print(result_2.model)"
   ]
  },
  {
   "cell_type": "markdown",
   "metadata": {},
   "source": [
    "## Check point-like sources model fit"
   ]
  },
  {
   "cell_type": "code",
   "execution_count": 16,
   "metadata": {},
   "outputs": [],
   "source": [
    "npred_1 = fit.evaluator.compute_npred()\n",
    "npred_2 = fit_2.evaluator.compute_npred()\n",
    "maker = MapEvaluator(\n",
    "    model=fit.evaluator.model + fit_2.evaluator.model,\n",
    "    exposure=cmaps[\"exposure\"],\n",
    "    background=cmaps[\"background\"],\n",
    "    psf=psf_kernel,\n",
    "    edisp=edisp,\n",
    ")\n",
    "npred_combine = maker.compute_npred()"
   ]
  },
  {
   "cell_type": "code",
   "execution_count": 17,
   "metadata": {},
   "outputs": [],
   "source": [
    "residual = Map.from_geom(cmaps[\"counts\"].geom)\n",
    "residual.data = cmaps[\"counts\"].data - npred_combine.data "
   ]
  },
  {
   "cell_type": "code",
   "execution_count": 18,
   "metadata": {},
   "outputs": [
    {
     "data": {
      "image/png": "[encoded data removed]",
      "text/plain": [
       "<matplotlib.figure.Figure at 0x7fc22f1e06a0>"
      ]
     },
     "metadata": {
      "needs_background": "light"
     },
     "output_type": "display_data"
    }
   ],
   "source": [
    "residual.sum_over_axes().smooth(width=0.05 * u.deg).plot(\n",
    "    cmap=\"coolwarm\", vmin=-800, vmax=800, add_cbar=True);"
   ]
  },
  {
   "cell_type": "code",
   "execution_count": 19,
   "metadata": {},
   "outputs": [
    {
     "data": {
      "image/png": "[encoded data removed]",
      "text/plain": [
       "<matplotlib.figure.Figure at 0x7fc22f200b00>"
      ]
     },
     "metadata": {
      "needs_background": "light"
     },
     "output_type": "display_data"
    }
   ],
   "source": [
    "# GC source spectrum:\n",
    "spec_1 = result.model.spectral_model\n",
    "energy_range = [0.3, 10] * u.TeV\n",
    "spec_1.plot(energy_range=energy_range, energy_power=2)\n",
    "ax = spec_1.plot_error(energy_range=energy_range, energy_power=2)"
   ]
  },
  {
   "cell_type": "code",
   "execution_count": 20,
   "metadata": {},
   "outputs": [
    {
     "data": {
      "image/png": "[encoded data removed]",
      "text/plain": [
       "<matplotlib.figure.Figure at 0x7fc22f0374a8>"
      ]
     },
     "metadata": {
      "needs_background": "light"
     },
     "output_type": "display_data"
    }
   ],
   "source": [
    "# G0.9+0.1 spectrum\n",
    "spec_2 = result_2.model.spectral_model\n",
    "energy_range = [0.3, 10] * u.TeV\n",
    "spec_2.plot(energy_range=energy_range, energy_power=2)\n",
    "ax = spec_2.plot_error(energy_range=energy_range, energy_power=2)"
   ]
  },
  {
   "cell_type": "markdown",
   "metadata": {},
   "source": [
    "Compare to DC1 model:"
   ]
  },
  {
   "cell_type": "code",
   "execution_count": 22,
   "metadata": {},
   "outputs": [],
   "source": [
    "dc1_gc_model = ExponentialCutoffPowerLaw(\n",
    "    index = 2.14 * u.Unit(''),\n",
    "    amplitude = 2.55e-12 * u.Unit('cm-2 s-1 TeV-1'),\n",
    "    reference= 1. * u.TeV,\n",
    "    lambda_= 0.0934 / u.TeV\n",
    ")\n",
    "dc1_G09_model = PowerLaw(\n",
    "    index = 2.4 * u.Unit(''),\n",
    "    amplitude = 0.8383e-12 * u.Unit('cm-2 s-1 TeV-1'),\n",
    "    reference= 1. *u.TeV,\n",
    ")"
   ]
  },
  {
   "cell_type": "code",
   "execution_count": 39,
   "metadata": {},
   "outputs": [
    {
     "data": {
      "text/plain": [
       "<matplotlib.legend.Legend at 0x7fc22ed45198>"
      ]
     },
     "execution_count": 39,
     "metadata": {},
     "output_type": "execute_result"
    },
    {
     "data": {
      "image/png": "[encoded data removed]",
      "text/plain": [
       "<matplotlib.figure.Figure at 0x7fc22e8faa20>"
      ]
     },
     "metadata": {
      "needs_background": "light"
     },
     "output_type": "display_data"
    }
   ],
   "source": [
    "energy_range = [0.3, 10] * u.TeV\n",
    "\n",
    "plt.figure(figsize=(15, 5))\n",
    "\n",
    "ax_1 = plt.subplot(121)\n",
    "ax_2 = plt.subplot(122)\n",
    "\n",
    "ax_1.set_title(\"Galactic Center central source\")\n",
    "ax_2.set_title(\"G0.9+0.1\")\n",
    "\n",
    "spec_1.plot(energy_range=energy_range, energy_power=2,ax=ax_1)\n",
    "ax = spec_1.plot_error(energy_range=energy_range, energy_power=2,ax=ax_1)\n",
    "ax = dc1_gc_model.plot(energy_range, energy_power=2, color='red',ax=ax_1)\n",
    "ax.legend(['Spectral Fit', 'DC-1 model'])\n",
    "\n",
    "spec_2.plot(energy_range=energy_range, energy_power=2,ax=ax_2)\n",
    "ax = spec_2.plot_error(energy_range=energy_range, energy_power=2,ax=ax_2)\n",
    "ax = dc1_G09_model.plot(energy_range, energy_power=2, color='red',ax=ax_2)\n",
    "ax.legend(['Spectral Fit', 'DC-1 model'])"
   ]
  },
  {
   "cell_type": "markdown",
   "metadata": {},
   "source": [
    "## Fit of the HESS J1745-303 source"
   ]
  },
  {
   "cell_type": "code",
   "execution_count": 40,
   "metadata": {},
   "outputs": [],
   "source": [
    "fit_3 = MapFit(\n",
    "    model=model_J1745_303,\n",
    "    counts=cmaps[\"counts\"],\n",
    "    exposure=cmaps[\"exposure\"],\n",
    "    background=cmaps[\"background\"],\n",
    "#    mask=mask_J1745_303,\n",
    "    psf=psf_kernel,\n",
    "    edisp=edisp,\n",
    ")\n",
    "fit_3.evaluator.model.parameters[\"lon_0\"].frozen = True\n",
    "fit_3.evaluator.model.parameters[\"lat_0\"].frozen = True\n",
    "fit_3.evaluator.model.parameters[\"sigma\"].min = 0\n",
    "fit_3.evaluator.model.parameters[\"sigma\"].max = 0.4"
   ]
  },
  {
   "cell_type": "code",
   "execution_count": 41,
   "metadata": {},
   "outputs": [
    {
     "data": {
      "text/html": [
       "<hr>"
      ]
     },
     "metadata": {},
     "output_type": "display_data"
    },
    {
     "data": {
      "text/html": [
       "<table>\n",
       "    <tr>\n",
       "        <td title=\"Minimum value of function\">FCN = -170392697.76577285</td>\n",
       "        <td title=\"Total number of call to FCN so far\">TOTAL NCALL = 248</td>\n",
       "        <td title=\"Number of call in last migrad\">NCALLS = 248</td>\n",
       "    </tr>\n",
       "    <tr>\n",
       "        <td title=\"Estimated distance to minimum\">EDM = 0.0004598806178317584</td>\n",
       "        <td title=\"Maximum EDM definition of convergence\">GOAL EDM = 1e-05</td>\n",
       "        <td title=\"Error def. Amount of increase in FCN to be defined as 1 standard deviation\">\n",
       "        UP = 1.0</td>\n",
       "    </tr>\n",
       "</table>\n",
       "<table>\n",
       "    <tr>\n",
       "        <td align=\"center\" title=\"Validity of the migrad call\">Valid</td>\n",
       "        <td align=\"center\" title=\"Validity of parameters\">Valid Param</td>\n",
       "        <td align=\"center\" title=\"Is Covariance matrix accurate?\">Accurate Covar</td>\n",
       "        <td align=\"center\" title=\"Positive definiteness of covariance matrix\">PosDef</td>\n",
       "        <td align=\"center\" title=\"Was covariance matrix made posdef by adding diagonal element\">Made PosDef</td>\n",
       "    </tr>\n",
       "    <tr>\n",
       "        <td align=\"center\" style=\"background-color:#92CCA6\">True</td>\n",
       "        <td align=\"center\" style=\"background-color:#92CCA6\">True</td>\n",
       "        <td align=\"center\" style=\"background-color:#92CCA6\">True</td>\n",
       "        <td align=\"center\" style=\"background-color:#92CCA6\">True</td>\n",
       "        <td align=\"center\" style=\"background-color:#92CCA6\">False</td>\n",
       "    </tr>\n",
       "    <tr>\n",
       "        <td align=\"center\" title=\"Was last hesse call fail?\">Hesse Fail</td>\n",
       "        <td align=\"center\" title=\"Validity of covariance\">HasCov</td>\n",
       "        <td align=\"center\" title=\"Is EDM above goal EDM?\">Above EDM</td>\n",
       "        <td align=\"center\"></td>\n",
       "        <td align=\"center\" title=\"Did last migrad call reach max call limit?\">Reach calllim</td>\n",
       "    </tr>\n",
       "    <tr>\n",
       "        <td align=\"center\" style=\"background-color:#92CCA6\">False</td>\n",
       "        <td align=\"center\" style=\"background-color:#92CCA6\">True</td>\n",
       "        <td align=\"center\" style=\"background-color:#92CCA6\">False</td>\n",
       "        <td align=\"center\"></td>\n",
       "        <td align=\"center\" style=\"background-color:#92CCA6\">False</td>\n",
       "    </tr>\n",
       "</table>"
      ]
     },
     "metadata": {},
     "output_type": "display_data"
    },
    {
     "data": {
      "text/html": [
       "<table>\n",
       "    <tr>\n",
       "        <td><a href=\"#\" onclick=\"$('#IhgWsxpeGK').toggle()\">+</a></td>\n",
       "        <td title=\"Variable name\">Name</td>\n",
       "        <td title=\"Value of parameter\">Value</td>\n",
       "        <td title=\"Hesse error\">Hesse Error</td>\n",
       "        <td title=\"Minos lower error\">Minos Error-</td>\n",
       "        <td title=\"Minos upper error\">Minos Error+</td>\n",
       "        <td title=\"Lower limit of the parameter\">Limit-</td>\n",
       "        <td title=\"Upper limit of the parameter\">Limit+</td>\n",
       "        <td title=\"Is the parameter fixed in the fit\">Fixed?</td>\n",
       "    </tr>\n",
       "    <tr>\n",
       "        <td>0</td>\n",
       "        <td>par_000_lon_0</td>\n",
       "        <td>3.58872</td>\n",
       "        <td>1</td>\n",
       "        <td></td>\n",
       "        <td></td>\n",
       "        <td></td>\n",
       "        <td></td>\n",
       "        <td>Yes</td>\n",
       "    </tr>\n",
       "    <tr>\n",
       "        <td>1</td>\n",
       "        <td>par_001_lat_0</td>\n",
       "        <td>-0.578</td>\n",
       "        <td>1</td>\n",
       "        <td></td>\n",
       "        <td></td>\n",
       "        <td></td>\n",
       "        <td></td>\n",
       "        <td>Yes</td>\n",
       "    </tr>\n",
       "    <tr>\n",
       "        <td>2</td>\n",
       "        <td>par_002_sigma</td>\n",
       "        <td>0.4</td>\n",
       "        <td>4.64819e-06</td>\n",
       "        <td></td>\n",
       "        <td></td>\n",
       "        <td>0</td>\n",
       "        <td>0.4</td>\n",
       "        <td>No</td>\n",
       "    </tr>\n",
       "    <tr>\n",
       "        <td>3</td>\n",
       "        <td>par_003_index</td>\n",
       "        <td>2.49953</td>\n",
       "        <td>0.00169649</td>\n",
       "        <td></td>\n",
       "        <td></td>\n",
       "        <td></td>\n",
       "        <td></td>\n",
       "        <td>No</td>\n",
       "    </tr>\n",
       "    <tr>\n",
       "        <td>4</td>\n",
       "        <td>par_004_amplitude</td>\n",
       "        <td>8.46094</td>\n",
       "        <td>0.0195326</td>\n",
       "        <td></td>\n",
       "        <td></td>\n",
       "        <td></td>\n",
       "        <td></td>\n",
       "        <td>No</td>\n",
       "    </tr>\n",
       "    <tr>\n",
       "        <td>5</td>\n",
       "        <td>par_005_reference</td>\n",
       "        <td>1</td>\n",
       "        <td>1</td>\n",
       "        <td></td>\n",
       "        <td></td>\n",
       "        <td>0</td>\n",
       "        <td></td>\n",
       "        <td>Yes</td>\n",
       "    </tr>\n",
       "</table>\n",
       "<pre id=\"IhgWsxpeGK\" style=\"display:none;\">\n",
       "<textarea rows=\"18\" cols=\"50\" onclick=\"this.select()\" readonly>\n",
       "\\begin{tabular}{|c|r|r|r|r|r|r|r|c|}\n",
       "\\hline\n",
       " & Name & Value & Hesse Error & Minos Error- & Minos Error+ & Limit- & Limit+ & Fixed?\\\\\n",
       "\\hline\n",
       "0 & par 000 $lon_{0}$ & 3.58872 & 1 &  &  &  &  & Yes\\\\\n",
       "\\hline\n",
       "1 & par 001 $lat_{0}$ & -0.578 & 1 &  &  &  &  & Yes\\\\\n",
       "\\hline\n",
       "2 & par $002_{\\sigma}$ & 0.4 & 4.64819e-06 &  &  & 0.0 & 0.4 & No\\\\\n",
       "\\hline\n",
       "3 & par $003_{index}$ & 2.49953 & 0.00169649 &  &  &  &  & No\\\\\n",
       "\\hline\n",
       "4 & par $004_{amplitude}$ & 8.46094 & 0.0195326 &  &  &  &  & No\\\\\n",
       "\\hline\n",
       "5 & par $005_{reference}$ & 1 & 1 &  &  & 0.0 &  & Yes\\\\\n",
       "\\hline\n",
       "\\end{tabular}\n",
       "</textarea>\n",
       "</pre>"
      ]
     },
     "metadata": {},
     "output_type": "display_data"
    },
    {
     "data": {
      "text/html": [
       "<hr>"
      ]
     },
     "metadata": {},
     "output_type": "display_data"
    },
    {
     "name": "stdout",
     "output_type": "stream",
     "text": [
      "CPU times: user 1min 31s, sys: 319 ms, total: 1min 31s\n",
      "Wall time: 1min 31s\n"
     ]
    }
   ],
   "source": [
    "%%time\n",
    "result_3 = fit_3.run(optimize_opts={\"print_level\": 1})"
   ]
  },
  {
   "cell_type": "code",
   "execution_count": 42,
   "metadata": {},
   "outputs": [
    {
     "name": "stdout",
     "output_type": "stream",
     "text": [
      "SkyModel\n",
      "\n",
      "spatial_model = SkyGaussian\n",
      "\n",
      "Parameters: \n",
      "\n",
      "\t name   value      error   unit    min       max   \n",
      "\t----- ---------- --------- ---- --------- ---------\n",
      "\tlon_0  3.589e+02 0.000e+00  deg       nan       nan\n",
      "\tlat_0 -5.780e-01 0.000e+00  deg       nan       nan\n",
      "\tsigma  4.000e-01 4.629e-08  deg 0.000e+00 4.000e-01\n",
      "\n",
      "Covariance: \n",
      "\n",
      "\t name   lon_0     lat_0     sigma  \n",
      "\t----- --------- --------- ---------\n",
      "\tlon_0 0.000e+00 0.000e+00 0.000e+00\n",
      "\tlat_0 0.000e+00 0.000e+00 0.000e+00\n",
      "\tsigma 0.000e+00 0.000e+00 2.142e-15\n",
      "\n",
      "spectral_model = PowerLaw\n",
      "\n",
      "Parameters: \n",
      "\n",
      "\t   name     value     error         unit         min    max\n",
      "\t--------- --------- --------- --------------- --------- ---\n",
      "\t    index 2.500e+00 1.696e-03                       nan nan\n",
      "\tamplitude 8.461e-12 1.953e-14 1 / (cm2 s TeV)       nan nan\n",
      "\treference 1.000e+00 0.000e+00             TeV 0.000e+00 nan\n",
      "\n",
      "Covariance: \n",
      "\n",
      "\t   name     index    amplitude  reference\n",
      "\t--------- ---------- ---------- ---------\n",
      "\t    index  2.878e-06 -1.164e-17 0.000e+00\n",
      "\tamplitude -1.164e-17  3.815e-28 0.000e+00\n",
      "\treference  0.000e+00  0.000e+00 0.000e+00\n",
      "\n"
     ]
    }
   ],
   "source": [
    "print(result_3.model)"
   ]
  },
  {
   "cell_type": "code",
   "execution_count": 56,
   "metadata": {},
   "outputs": [
    {
     "data": {
      "image/png": "[encoded data removed]",
      "text/plain": [
       "<matplotlib.figure.Figure at 0x7fc228135080>"
      ]
     },
     "metadata": {
      "needs_background": "light"
     },
     "output_type": "display_data"
    }
   ],
   "source": [
    "npred_3 = fit_3.evaluator.compute_npred()\n",
    "residual3 = Map.from_geom(cmaps[\"counts\"].geom)\n",
    "residual3.data = cmaps[\"counts\"].data - npred_3.data \n",
    "residual3.sum_over_axes().smooth(width=0.05 * u.deg).plot(\n",
    "    cmap=\"coolwarm\", vmin=-800, vmax=800, add_cbar=True);"
   ]
  },
  {
   "cell_type": "markdown",
   "metadata": {},
   "source": [
    "The fit is poor due to the lack of IEM model. The width of the gaussian goes to larger values (true value is actually 0.2 deg) because it tries to fit the IEM component. Lets add the IEM."
   ]
  },
  {
   "cell_type": "markdown",
   "metadata": {},
   "source": [
    "## Adding IEM model\n",
    "First without HESS J1745-303:"
   ]
  },
  {
   "cell_type": "code",
   "execution_count": 44,
   "metadata": {},
   "outputs": [],
   "source": [
    "model_combined = fit.evaluator.model + fit_2.evaluator.model + model_iem\n",
    "\n",
    "#model_combined = fit.evaluator.model + fit_2.evaluator.model + fit_3.evaluator.model + model_iem\n",
    "\n",
    "fit_combined = MapFit(\n",
    "    model=model_combined,\n",
    "    counts=cmaps[\"counts\"],\n",
    "    exposure=cmaps[\"exposure\"],\n",
    "    background=cmaps[\"background\"],\n",
    "    psf=psf_kernel,\n",
    "    edisp=edisp,\n",
    ")"
   ]
  },
  {
   "cell_type": "code",
   "execution_count": 45,
   "metadata": {},
   "outputs": [
    {
     "name": "stdout",
     "output_type": "stream",
     "text": [
      "CompoundSkyModel\n",
      "    Component 1 : CompoundSkyModel\n",
      "    Component 1 : SkyModel\n",
      "\n",
      "spatial_model = SkyPointSource\n",
      "\n",
      "Parameters: \n",
      "\n",
      "\t name   value      error   unit min max\n",
      "\t----- ---------- --------- ---- --- ---\n",
      "\tlon_0 -5.519e-02 1.121e-04  deg nan nan\n",
      "\tlat_0 -4.634e-02 1.128e-04  deg nan nan\n",
      "\n",
      "Covariance: \n",
      "\n",
      "\t name   lon_0     lat_0  \n",
      "\t----- --------- ---------\n",
      "\tlon_0 1.257e-08 5.854e-11\n",
      "\tlat_0 5.854e-11 1.273e-08\n",
      "\n",
      "spectral_model = ExponentialCutoffPowerLaw\n",
      "\n",
      "Parameters: \n",
      "\n",
      "\t   name     value     error         unit      min max\n",
      "\t--------- --------- --------- --------------- --- ---\n",
      "\t    index 2.190e+00 4.952e-03                 nan nan\n",
      "\tamplitude 3.124e-12 1.283e-14 1 / (cm2 s TeV) nan nan\n",
      "\treference 1.000e+00 0.000e+00             TeV nan nan\n",
      "\t  lambda_ 8.110e-02 1.792e-03         1 / TeV nan nan\n",
      "\n",
      "Covariance: \n",
      "\n",
      "\t   name     index    amplitude  reference  lambda_  \n",
      "\t--------- ---------- ---------- --------- ----------\n",
      "\t    index  2.452e-05 -3.478e-17 0.000e+00 -7.161e-06\n",
      "\tamplitude -3.478e-17  1.647e-28 0.000e+00  1.672e-17\n",
      "\treference  0.000e+00  0.000e+00 0.000e+00  0.000e+00\n",
      "\t  lambda_ -7.161e-06  1.672e-17 0.000e+00  3.213e-06\n",
      "\n",
      "    Component 2 : SkyModel\n",
      "\n",
      "spatial_model = SkyPointSource\n",
      "\n",
      "Parameters: \n",
      "\n",
      "\t name   value     error   unit min max\n",
      "\t----- --------- --------- ---- --- ---\n",
      "\tlon_0 8.633e-01 1.725e-04  deg nan nan\n",
      "\tlat_0 9.023e-02 1.713e-04  deg nan nan\n",
      "\n",
      "Covariance: \n",
      "\n",
      "\t name   lon_0      lat_0   \n",
      "\t----- ---------- ----------\n",
      "\tlon_0  2.977e-08 -1.629e-10\n",
      "\tlat_0 -1.629e-10  2.933e-08\n",
      "\n",
      "spectral_model = PowerLaw\n",
      "\n",
      "Parameters: \n",
      "\n",
      "\t   name     value     error         unit         min    max\n",
      "\t--------- --------- --------- --------------- --------- ---\n",
      "\t    index 2.435e+00 4.039e-03                       nan nan\n",
      "\tamplitude 1.257e-12 5.519e-15 1 / (cm2 s TeV)       nan nan\n",
      "\treference 1.000e+00 0.000e+00             TeV 0.000e+00 nan\n",
      "\n",
      "Covariance: \n",
      "\n",
      "\t   name     index   amplitude reference\n",
      "\t--------- --------- --------- ---------\n",
      "\t    index 1.632e-05 2.278e-18 0.000e+00\n",
      "\tamplitude 2.278e-18 3.046e-29 0.000e+00\n",
      "\treference 0.000e+00 0.000e+00 0.000e+00\n",
      "\n",
      "    Operator : <built-in function add>\n",
      "    Component 2 : <gammapy.cube.models.SkyDiffuseCube object at 0x7fc237e9acc0>\n",
      "    Operator : <built-in function add>\n"
     ]
    }
   ],
   "source": [
    "print(model_combined)"
   ]
  },
  {
   "cell_type": "code",
   "execution_count": 46,
   "metadata": {},
   "outputs": [],
   "source": [
    "# Fixing the positions\n",
    "fit_combined.evaluator.model.model1.model1.parameters[\"lon_0\"].frozen = True\n",
    "fit_combined.evaluator.model.model1.model1.parameters[\"lat_0\"].frozen = True\n",
    "\n",
    "fit_combined.evaluator.model.model1.model2.parameters[\"lon_0\"].frozen = True\n",
    "fit_combined.evaluator.model.model1.model2.parameters[\"lat_0\"].frozen = True"
   ]
  },
  {
   "cell_type": "code",
   "execution_count": 47,
   "metadata": {},
   "outputs": [
    {
     "data": {
      "text/html": [
       "<hr>"
      ]
     },
     "metadata": {},
     "output_type": "display_data"
    },
    {
     "data": {
      "text/html": [
       "<table>\n",
       "    <tr>\n",
       "        <td title=\"Minimum value of function\">FCN = -172508599.84878045</td>\n",
       "        <td title=\"Total number of call to FCN so far\">TOTAL NCALL = 233</td>\n",
       "        <td title=\"Number of call in last migrad\">NCALLS = 233</td>\n",
       "    </tr>\n",
       "    <tr>\n",
       "        <td title=\"Estimated distance to minimum\">EDM = 0.0727788768535195</td>\n",
       "        <td title=\"Maximum EDM definition of convergence\">GOAL EDM = 1e-05</td>\n",
       "        <td title=\"Error def. Amount of increase in FCN to be defined as 1 standard deviation\">\n",
       "        UP = 1.0</td>\n",
       "    </tr>\n",
       "</table>\n",
       "<table>\n",
       "    <tr>\n",
       "        <td align=\"center\" title=\"Validity of the migrad call\">Valid</td>\n",
       "        <td align=\"center\" title=\"Validity of parameters\">Valid Param</td>\n",
       "        <td align=\"center\" title=\"Is Covariance matrix accurate?\">Accurate Covar</td>\n",
       "        <td align=\"center\" title=\"Positive definiteness of covariance matrix\">PosDef</td>\n",
       "        <td align=\"center\" title=\"Was covariance matrix made posdef by adding diagonal element\">Made PosDef</td>\n",
       "    </tr>\n",
       "    <tr>\n",
       "        <td align=\"center\" style=\"background-color:#FF7878\">False</td>\n",
       "        <td align=\"center\" style=\"background-color:#92CCA6\">True</td>\n",
       "        <td align=\"center\" style=\"background-color:#92CCA6\">True</td>\n",
       "        <td align=\"center\" style=\"background-color:#92CCA6\">True</td>\n",
       "        <td align=\"center\" style=\"background-color:#92CCA6\">False</td>\n",
       "    </tr>\n",
       "    <tr>\n",
       "        <td align=\"center\" title=\"Was last hesse call fail?\">Hesse Fail</td>\n",
       "        <td align=\"center\" title=\"Validity of covariance\">HasCov</td>\n",
       "        <td align=\"center\" title=\"Is EDM above goal EDM?\">Above EDM</td>\n",
       "        <td align=\"center\"></td>\n",
       "        <td align=\"center\" title=\"Did last migrad call reach max call limit?\">Reach calllim</td>\n",
       "    </tr>\n",
       "    <tr>\n",
       "        <td align=\"center\" style=\"background-color:#92CCA6\">False</td>\n",
       "        <td align=\"center\" style=\"background-color:#92CCA6\">True</td>\n",
       "        <td align=\"center\" style=\"background-color:#FF7878\">True</td>\n",
       "        <td align=\"center\"></td>\n",
       "        <td align=\"center\" style=\"background-color:#92CCA6\">False</td>\n",
       "    </tr>\n",
       "</table>"
      ]
     },
     "metadata": {},
     "output_type": "display_data"
    },
    {
     "data": {
      "text/html": [
       "<table>\n",
       "    <tr>\n",
       "        <td><a href=\"#\" onclick=\"$('#EcbtgdtxWG').toggle()\">+</a></td>\n",
       "        <td title=\"Variable name\">Name</td>\n",
       "        <td title=\"Value of parameter\">Value</td>\n",
       "        <td title=\"Hesse error\">Hesse Error</td>\n",
       "        <td title=\"Minos lower error\">Minos Error-</td>\n",
       "        <td title=\"Minos upper error\">Minos Error+</td>\n",
       "        <td title=\"Lower limit of the parameter\">Limit-</td>\n",
       "        <td title=\"Upper limit of the parameter\">Limit+</td>\n",
       "        <td title=\"Is the parameter fixed in the fit\">Fixed?</td>\n",
       "    </tr>\n",
       "    <tr>\n",
       "        <td>0</td>\n",
       "        <td>par_000_lon_0</td>\n",
       "        <td>-0.551909</td>\n",
       "        <td>1</td>\n",
       "        <td></td>\n",
       "        <td></td>\n",
       "        <td></td>\n",
       "        <td></td>\n",
       "        <td>Yes</td>\n",
       "    </tr>\n",
       "    <tr>\n",
       "        <td>1</td>\n",
       "        <td>par_001_lat_0</td>\n",
       "        <td>-0.463434</td>\n",
       "        <td>1</td>\n",
       "        <td></td>\n",
       "        <td></td>\n",
       "        <td></td>\n",
       "        <td></td>\n",
       "        <td>Yes</td>\n",
       "    </tr>\n",
       "    <tr>\n",
       "        <td>2</td>\n",
       "        <td>par_002_index</td>\n",
       "        <td>2.12942</td>\n",
       "        <td>0.0038169</td>\n",
       "        <td></td>\n",
       "        <td></td>\n",
       "        <td></td>\n",
       "        <td></td>\n",
       "        <td>No</td>\n",
       "    </tr>\n",
       "    <tr>\n",
       "        <td>3</td>\n",
       "        <td>par_003_amplitude</td>\n",
       "        <td>0.265459</td>\n",
       "        <td>0.00122647</td>\n",
       "        <td></td>\n",
       "        <td></td>\n",
       "        <td></td>\n",
       "        <td></td>\n",
       "        <td>No</td>\n",
       "    </tr>\n",
       "    <tr>\n",
       "        <td>4</td>\n",
       "        <td>par_004_reference</td>\n",
       "        <td>1</td>\n",
       "        <td>1</td>\n",
       "        <td></td>\n",
       "        <td></td>\n",
       "        <td></td>\n",
       "        <td></td>\n",
       "        <td>Yes</td>\n",
       "    </tr>\n",
       "    <tr>\n",
       "        <td>5</td>\n",
       "        <td>par_005_lambda_</td>\n",
       "        <td>0.975693</td>\n",
       "        <td>0.0182097</td>\n",
       "        <td></td>\n",
       "        <td></td>\n",
       "        <td></td>\n",
       "        <td></td>\n",
       "        <td>No</td>\n",
       "    </tr>\n",
       "    <tr>\n",
       "        <td>6</td>\n",
       "        <td>par_006_lon_0</td>\n",
       "        <td>0.863329</td>\n",
       "        <td>1</td>\n",
       "        <td></td>\n",
       "        <td></td>\n",
       "        <td></td>\n",
       "        <td></td>\n",
       "        <td>Yes</td>\n",
       "    </tr>\n",
       "    <tr>\n",
       "        <td>7</td>\n",
       "        <td>par_007_lat_0</td>\n",
       "        <td>0.902297</td>\n",
       "        <td>1</td>\n",
       "        <td></td>\n",
       "        <td></td>\n",
       "        <td></td>\n",
       "        <td></td>\n",
       "        <td>Yes</td>\n",
       "    </tr>\n",
       "    <tr>\n",
       "        <td>8</td>\n",
       "        <td>par_008_index</td>\n",
       "        <td>2.38703</td>\n",
       "        <td>0.00389781</td>\n",
       "        <td></td>\n",
       "        <td></td>\n",
       "        <td></td>\n",
       "        <td></td>\n",
       "        <td>No</td>\n",
       "    </tr>\n",
       "    <tr>\n",
       "        <td>9</td>\n",
       "        <td>par_009_amplitude</td>\n",
       "        <td>0.0875229</td>\n",
       "        <td>0.000448212</td>\n",
       "        <td></td>\n",
       "        <td></td>\n",
       "        <td></td>\n",
       "        <td></td>\n",
       "        <td>No</td>\n",
       "    </tr>\n",
       "    <tr>\n",
       "        <td>10</td>\n",
       "        <td>par_010_reference</td>\n",
       "        <td>1</td>\n",
       "        <td>1</td>\n",
       "        <td></td>\n",
       "        <td></td>\n",
       "        <td>0</td>\n",
       "        <td></td>\n",
       "        <td>Yes</td>\n",
       "    </tr>\n",
       "    <tr>\n",
       "        <td>11</td>\n",
       "        <td>par_011_norm</td>\n",
       "        <td>0.840177</td>\n",
       "        <td>0.000873427</td>\n",
       "        <td></td>\n",
       "        <td></td>\n",
       "        <td></td>\n",
       "        <td></td>\n",
       "        <td>No</td>\n",
       "    </tr>\n",
       "</table>\n",
       "<pre id=\"EcbtgdtxWG\" style=\"display:none;\">\n",
       "<textarea rows=\"30\" cols=\"50\" onclick=\"this.select()\" readonly>\n",
       "\\begin{tabular}{|c|r|r|r|r|r|r|r|c|}\n",
       "\\hline\n",
       " & Name & Value & Hesse Error & Minos Error- & Minos Error+ & Limit- & Limit+ & Fixed?\\\\\n",
       "\\hline\n",
       "0 & par 000 $lon_{0}$ & -0.551909 & 1 &  &  &  &  & Yes\\\\\n",
       "\\hline\n",
       "1 & par 001 $lat_{0}$ & -0.463434 & 1 &  &  &  &  & Yes\\\\\n",
       "\\hline\n",
       "2 & par $002_{index}$ & 2.12942 & 0.0038169 &  &  &  &  & No\\\\\n",
       "\\hline\n",
       "3 & par $003_{amplitude}$ & 0.265459 & 0.00122647 &  &  &  &  & No\\\\\n",
       "\\hline\n",
       "4 & par $004_{reference}$ & 1 & 1 &  &  &  &  & Yes\\\\\n",
       "\\hline\n",
       "5 & par 005 $\\lambda_{}$ & 0.975693 & 0.0182097 &  &  &  &  & No\\\\\n",
       "\\hline\n",
       "6 & par 006 $lon_{0}$ & 0.863329 & 1 &  &  &  &  & Yes\\\\\n",
       "\\hline\n",
       "7 & par 007 $lat_{0}$ & 0.902297 & 1 &  &  &  &  & Yes\\\\\n",
       "\\hline\n",
       "8 & par $008_{index}$ & 2.38703 & 0.00389781 &  &  &  &  & No\\\\\n",
       "\\hline\n",
       "9 & par $009_{amplitude}$ & 0.0875229 & 0.000448212 &  &  &  &  & No\\\\\n",
       "\\hline\n",
       "10 & par $010_{reference}$ & 1 & 1 &  &  & 0.0 &  & Yes\\\\\n",
       "\\hline\n",
       "11 & par $011_{norm}$ & 0.840177 & 0.000873427 &  &  &  &  & No\\\\\n",
       "\\hline\n",
       "\\end{tabular}\n",
       "</textarea>\n",
       "</pre>"
      ]
     },
     "metadata": {},
     "output_type": "display_data"
    },
    {
     "data": {
      "text/html": [
       "<hr>"
      ]
     },
     "metadata": {},
     "output_type": "display_data"
    },
    {
     "name": "stdout",
     "output_type": "stream",
     "text": [
      "CPU times: user 5min, sys: 18.3 s, total: 5min 18s\n",
      "Wall time: 5min 19s\n"
     ]
    }
   ],
   "source": [
    "%%time\n",
    "result_combined = fit_combined.run(optimize_opts={\"print_level\": 1})"
   ]
  },
  {
   "cell_type": "code",
   "execution_count": 48,
   "metadata": {},
   "outputs": [
    {
     "name": "stdout",
     "output_type": "stream",
     "text": [
      "CompoundSkyModel\n",
      "    Component 1 : CompoundSkyModel\n",
      "    Component 1 : SkyModel\n",
      "\n",
      "spatial_model = SkyPointSource\n",
      "\n",
      "Parameters: \n",
      "\n",
      "\t name   value      error   unit min max\n",
      "\t----- ---------- --------- ---- --- ---\n",
      "\tlon_0 -5.519e-02 1.121e-04  deg nan nan\n",
      "\tlat_0 -4.634e-02 1.128e-04  deg nan nan\n",
      "\n",
      "Covariance: \n",
      "\n",
      "\t name   lon_0     lat_0  \n",
      "\t----- --------- ---------\n",
      "\tlon_0 1.257e-08 5.854e-11\n",
      "\tlat_0 5.854e-11 1.273e-08\n",
      "\n",
      "spectral_model = ExponentialCutoffPowerLaw\n",
      "\n",
      "Parameters: \n",
      "\n",
      "\t   name     value     error         unit      min max\n",
      "\t--------- --------- --------- --------------- --- ---\n",
      "\t    index 2.129e+00 4.952e-03                 nan nan\n",
      "\tamplitude 2.655e-12 1.283e-14 1 / (cm2 s TeV) nan nan\n",
      "\treference 1.000e+00 0.000e+00             TeV nan nan\n",
      "\t  lambda_ 9.757e-02 1.792e-03         1 / TeV nan nan\n",
      "\n",
      "Covariance: \n",
      "\n",
      "\t   name     index    amplitude  reference  lambda_  \n",
      "\t--------- ---------- ---------- --------- ----------\n",
      "\t    index  2.452e-05 -3.478e-17 0.000e+00 -7.161e-06\n",
      "\tamplitude -3.478e-17  1.647e-28 0.000e+00  1.672e-17\n",
      "\treference  0.000e+00  0.000e+00 0.000e+00  0.000e+00\n",
      "\t  lambda_ -7.161e-06  1.672e-17 0.000e+00  3.213e-06\n",
      "\n",
      "    Component 2 : SkyModel\n",
      "\n",
      "spatial_model = SkyPointSource\n",
      "\n",
      "Parameters: \n",
      "\n",
      "\t name   value     error   unit min max\n",
      "\t----- --------- --------- ---- --- ---\n",
      "\tlon_0 8.633e-01 1.725e-04  deg nan nan\n",
      "\tlat_0 9.023e-02 1.713e-04  deg nan nan\n",
      "\n",
      "Covariance: \n",
      "\n",
      "\t name   lon_0      lat_0   \n",
      "\t----- ---------- ----------\n",
      "\tlon_0  2.977e-08 -1.629e-10\n",
      "\tlat_0 -1.629e-10  2.933e-08\n",
      "\n",
      "spectral_model = PowerLaw\n",
      "\n",
      "Parameters: \n",
      "\n",
      "\t   name     value     error         unit         min    max\n",
      "\t--------- --------- --------- --------------- --------- ---\n",
      "\t    index 2.387e+00 4.039e-03                       nan nan\n",
      "\tamplitude 8.752e-13 5.519e-15 1 / (cm2 s TeV)       nan nan\n",
      "\treference 1.000e+00 0.000e+00             TeV 0.000e+00 nan\n",
      "\n",
      "Covariance: \n",
      "\n",
      "\t   name     index   amplitude reference\n",
      "\t--------- --------- --------- ---------\n",
      "\t    index 1.632e-05 2.278e-18 0.000e+00\n",
      "\tamplitude 2.278e-18 3.046e-29 0.000e+00\n",
      "\treference 0.000e+00 0.000e+00 0.000e+00\n",
      "\n",
      "    Operator : <built-in function add>\n",
      "    Component 2 : <gammapy.cube.models.SkyDiffuseCube object at 0x7fc22f136cf8>\n",
      "    Operator : <built-in function add>\n"
     ]
    }
   ],
   "source": [
    "print(result_combined.model)"
   ]
  },
  {
   "cell_type": "code",
   "execution_count": 49,
   "metadata": {},
   "outputs": [
    {
     "data": {
      "text/plain": [
       "[Parameter(name='norm', value=0.8401770723998022, factor=0.8401770723998022, scale=1, unit='', min=nan, max=nan, frozen=False)]"
      ]
     },
     "execution_count": 49,
     "metadata": {},
     "output_type": "execute_result"
    }
   ],
   "source": [
    "fit_combined.evaluator.model.model2.parameters[:]"
   ]
  },
  {
   "cell_type": "markdown",
   "metadata": {},
   "source": [
    "The IEM normalization is found at 0.84, instead of 1. Let's check the residuals."
   ]
  },
  {
   "cell_type": "code",
   "execution_count": 50,
   "metadata": {},
   "outputs": [],
   "source": [
    "npred_combined = fit_combined.evaluator.compute_npred()\n",
    "\n",
    "residual2 = Map.from_geom(cmaps[\"counts\"].geom)\n",
    "residual2.data = cmaps[\"counts\"].data - npred_combined.data"
   ]
  },
  {
   "cell_type": "code",
   "execution_count": 52,
   "metadata": {
    "scrolled": true
   },
   "outputs": [
    {
     "data": {
      "image/png": "[encoded data removed]",
      "text/plain": [
       "<matplotlib.figure.Figure at 0x7fc22eb964a8>"
      ]
     },
     "metadata": {
      "needs_background": "light"
     },
     "output_type": "display_data"
    }
   ],
   "source": [
    "plt.figure(figsize=(15, 5))\n",
    "ax_1 = plt.subplot(121, projection=residual.geom.wcs)\n",
    "ax_2 = plt.subplot(122, projection=residual.geom.wcs)\n",
    "\n",
    "ax_1.set_title(\"Without diffuse emission subtraction\")\n",
    "ax_2.set_title(\"With diffuse emission subtraction\")\n",
    "\n",
    "residual.sum_over_axes().smooth(width=0.05 * u.deg).plot(\n",
    "    cmap=\"coolwarm\", vmin = -800, vmax=800, add_cbar=True, ax=ax_1\n",
    ");\n",
    "residual2.sum_over_axes().smooth(width=0.05 * u.deg).plot(\n",
    "    cmap=\"coolwarm\", vmin = -300, vmax=300, add_cbar=True, ax=ax_2\n",
    ");"
   ]
  },
  {
   "cell_type": "code",
   "execution_count": 55,
   "metadata": {},
   "outputs": [
    {
     "data": {
      "text/plain": [
       "<matplotlib.legend.Legend at 0x7fc22eb05470>"
      ]
     },
     "execution_count": 55,
     "metadata": {},
     "output_type": "execute_result"
    },
    {
     "data": {
      "image/png": "[encoded data removed]",
      "text/plain": [
       "<matplotlib.figure.Figure at 0x7fc22e8887f0>"
      ]
     },
     "metadata": {
      "needs_background": "light"
     },
     "output_type": "display_data"
    }
   ],
   "source": [
    "# GC source spectrum:\n",
    "spec_1 = result_combined.model.model1.model1.spectral_model\n",
    "\n",
    "# G0.9+0.1 spectrum\n",
    "spec_2 = result_combined.model.model1.model2.spectral_model\n",
    "\n",
    "plt.figure(figsize=(15, 5))\n",
    "\n",
    "ax_1 = plt.subplot(121)\n",
    "ax_2 = plt.subplot(122)\n",
    "\n",
    "ax_1.set_title(\"Galactic Center central source\")\n",
    "ax_2.set_title(\"G0.9+0.1\")\n",
    "\n",
    "spec_1.plot(energy_range=energy_range, energy_power=2,ax=ax_1)\n",
    "ax = spec_1.plot_error(energy_range=energy_range, energy_power=2,ax=ax_1)\n",
    "ax = dc1_gc_model.plot(energy_range, energy_power=2, color='red',ax=ax_1)\n",
    "ax.legend(['Spectral Fit', 'DC-1 model'])\n",
    "\n",
    "spec_2.plot(energy_range=energy_range, energy_power=2,ax=ax_2)\n",
    "ax = spec_2.plot_error(energy_range=energy_range, energy_power=2,ax=ax_2)\n",
    "ax = dc1_G09_model.plot(energy_range, energy_power=2, color='red',ax=ax_2)\n",
    "ax.legend(['Spectral Fit', 'DC-1 model'])"
   ]
  },
  {
   "cell_type": "markdown",
   "metadata": {},
   "source": [
    "The fit has improved significantly. However, there is still some IEM not being fit. Let's try to add HESS J1745-303.\n",
    "## Adding IEM and HESS J1745-303 (ongoing)"
   ]
  },
  {
   "cell_type": "code",
   "execution_count": 65,
   "metadata": {},
   "outputs": [],
   "source": [
    "model_combined_2 = result_combined.model.model1.model1 + result_combined.model.model1.model2 + fit_3.evaluator.model + result_combined.model.model2\n",
    "\n",
    "fit_combined_2 = MapFit(\n",
    "    model=model_combined_2,\n",
    "    counts=cmaps[\"counts\"],\n",
    "    exposure=cmaps[\"exposure\"],\n",
    "    background=cmaps[\"background\"],\n",
    "    psf=psf_kernel,\n",
    "    edisp=edisp,\n",
    ")"
   ]
  },
  {
   "cell_type": "code",
   "execution_count": 78,
   "metadata": {},
   "outputs": [],
   "source": [
    "# Fixing the positions\n",
    "fit_combined_2.evaluator.model.model1.model1.model1.parameters[\"lon_0\"].frozen = True\n",
    "fit_combined_2.evaluator.model.model1.model1.model1.parameters[\"lat_0\"].frozen = True\n",
    "\n",
    "fit_combined_2.evaluator.model.model1.model1.model2.parameters[\"lon_0\"].frozen = True\n",
    "fit_combined_2.evaluator.model.model1.model1.model2.parameters[\"lat_0\"].frozen = True\n",
    "\n",
    "fit_combined_2.evaluator.model.model1.model2.parameters[\"lon_0\"].frozen = True\n",
    "fit_combined_2.evaluator.model.model1.model2.parameters[\"lat_0\"].frozen = True\n",
    "fit_combined_2.evaluator.model.model1.model2.parameters[\"sigma\"].max = 0.4\n",
    "fit_combined_2.evaluator.model.model1.model2.parameters[\"amplitude\"].min = 0 \n",
    "\n",
    "fit_combined_2.evaluator.model.model2.parameters[\"norm\"].min = 0\n",
    "#fit_combined_2.evaluator.model.model2.parameters[\"norm\"].max = 1.2"
   ]
  },
  {
   "cell_type": "code",
   "execution_count": 73,
   "metadata": {},
   "outputs": [],
   "source": [
    "#print(fit_combined_2.evaluator.model.model1.model2)"
   ]
  },
  {
   "cell_type": "code",
   "execution_count": 79,
   "metadata": {},
   "outputs": [
    {
     "data": {
      "text/html": [
       "<hr>"
      ]
     },
     "metadata": {},
     "output_type": "display_data"
    },
    {
     "data": {
      "text/html": [
       "<table>\n",
       "    <tr>\n",
       "        <td title=\"Minimum value of function\">FCN = -172605545.76919726</td>\n",
       "        <td title=\"Total number of call to FCN so far\">TOTAL NCALL = 269</td>\n",
       "        <td title=\"Number of call in last migrad\">NCALLS = 269</td>\n",
       "    </tr>\n",
       "    <tr>\n",
       "        <td title=\"Estimated distance to minimum\">EDM = 0.022714003252639604</td>\n",
       "        <td title=\"Maximum EDM definition of convergence\">GOAL EDM = 1e-05</td>\n",
       "        <td title=\"Error def. Amount of increase in FCN to be defined as 1 standard deviation\">\n",
       "        UP = 1.0</td>\n",
       "    </tr>\n",
       "</table>\n",
       "<table>\n",
       "    <tr>\n",
       "        <td align=\"center\" title=\"Validity of the migrad call\">Valid</td>\n",
       "        <td align=\"center\" title=\"Validity of parameters\">Valid Param</td>\n",
       "        <td align=\"center\" title=\"Is Covariance matrix accurate?\">Accurate Covar</td>\n",
       "        <td align=\"center\" title=\"Positive definiteness of covariance matrix\">PosDef</td>\n",
       "        <td align=\"center\" title=\"Was covariance matrix made posdef by adding diagonal element\">Made PosDef</td>\n",
       "    </tr>\n",
       "    <tr>\n",
       "        <td align=\"center\" style=\"background-color:#FF7878\">False</td>\n",
       "        <td align=\"center\" style=\"background-color:#92CCA6\">True</td>\n",
       "        <td align=\"center\" style=\"background-color:#92CCA6\">True</td>\n",
       "        <td align=\"center\" style=\"background-color:#92CCA6\">True</td>\n",
       "        <td align=\"center\" style=\"background-color:#92CCA6\">False</td>\n",
       "    </tr>\n",
       "    <tr>\n",
       "        <td align=\"center\" title=\"Was last hesse call fail?\">Hesse Fail</td>\n",
       "        <td align=\"center\" title=\"Validity of covariance\">HasCov</td>\n",
       "        <td align=\"center\" title=\"Is EDM above goal EDM?\">Above EDM</td>\n",
       "        <td align=\"center\"></td>\n",
       "        <td align=\"center\" title=\"Did last migrad call reach max call limit?\">Reach calllim</td>\n",
       "    </tr>\n",
       "    <tr>\n",
       "        <td align=\"center\" style=\"background-color:#92CCA6\">False</td>\n",
       "        <td align=\"center\" style=\"background-color:#92CCA6\">True</td>\n",
       "        <td align=\"center\" style=\"background-color:#FF7878\">True</td>\n",
       "        <td align=\"center\"></td>\n",
       "        <td align=\"center\" style=\"background-color:#92CCA6\">False</td>\n",
       "    </tr>\n",
       "</table>"
      ]
     },
     "metadata": {},
     "output_type": "display_data"
    },
    {
     "data": {
      "text/html": [
       "<table>\n",
       "    <tr>\n",
       "        <td><a href=\"#\" onclick=\"$('#nBsyOmbJig').toggle()\">+</a></td>\n",
       "        <td title=\"Variable name\">Name</td>\n",
       "        <td title=\"Value of parameter\">Value</td>\n",
       "        <td title=\"Hesse error\">Hesse Error</td>\n",
       "        <td title=\"Minos lower error\">Minos Error-</td>\n",
       "        <td title=\"Minos upper error\">Minos Error+</td>\n",
       "        <td title=\"Lower limit of the parameter\">Limit-</td>\n",
       "        <td title=\"Upper limit of the parameter\">Limit+</td>\n",
       "        <td title=\"Is the parameter fixed in the fit\">Fixed?</td>\n",
       "    </tr>\n",
       "    <tr>\n",
       "        <td>0</td>\n",
       "        <td>par_000_lon_0</td>\n",
       "        <td>-0.551909</td>\n",
       "        <td>1</td>\n",
       "        <td></td>\n",
       "        <td></td>\n",
       "        <td></td>\n",
       "        <td></td>\n",
       "        <td>Yes</td>\n",
       "    </tr>\n",
       "    <tr>\n",
       "        <td>1</td>\n",
       "        <td>par_001_lat_0</td>\n",
       "        <td>-0.463434</td>\n",
       "        <td>1</td>\n",
       "        <td></td>\n",
       "        <td></td>\n",
       "        <td></td>\n",
       "        <td></td>\n",
       "        <td>Yes</td>\n",
       "    </tr>\n",
       "    <tr>\n",
       "        <td>2</td>\n",
       "        <td>par_002_index</td>\n",
       "        <td>2.13783</td>\n",
       "        <td>0.00377087</td>\n",
       "        <td></td>\n",
       "        <td></td>\n",
       "        <td></td>\n",
       "        <td></td>\n",
       "        <td>No</td>\n",
       "    </tr>\n",
       "    <tr>\n",
       "        <td>3</td>\n",
       "        <td>par_003_amplitude</td>\n",
       "        <td>0.266812</td>\n",
       "        <td>0.0012214</td>\n",
       "        <td></td>\n",
       "        <td></td>\n",
       "        <td></td>\n",
       "        <td></td>\n",
       "        <td>No</td>\n",
       "    </tr>\n",
       "    <tr>\n",
       "        <td>4</td>\n",
       "        <td>par_004_reference</td>\n",
       "        <td>1</td>\n",
       "        <td>1</td>\n",
       "        <td></td>\n",
       "        <td></td>\n",
       "        <td></td>\n",
       "        <td></td>\n",
       "        <td>Yes</td>\n",
       "    </tr>\n",
       "    <tr>\n",
       "        <td>5</td>\n",
       "        <td>par_005_lambda_</td>\n",
       "        <td>0.953468</td>\n",
       "        <td>0.0179427</td>\n",
       "        <td></td>\n",
       "        <td></td>\n",
       "        <td></td>\n",
       "        <td></td>\n",
       "        <td>No</td>\n",
       "    </tr>\n",
       "    <tr>\n",
       "        <td>6</td>\n",
       "        <td>par_006_lon_0</td>\n",
       "        <td>0.863329</td>\n",
       "        <td>1</td>\n",
       "        <td></td>\n",
       "        <td></td>\n",
       "        <td></td>\n",
       "        <td></td>\n",
       "        <td>Yes</td>\n",
       "    </tr>\n",
       "    <tr>\n",
       "        <td>7</td>\n",
       "        <td>par_007_lat_0</td>\n",
       "        <td>0.902297</td>\n",
       "        <td>1</td>\n",
       "        <td></td>\n",
       "        <td></td>\n",
       "        <td></td>\n",
       "        <td></td>\n",
       "        <td>Yes</td>\n",
       "    </tr>\n",
       "    <tr>\n",
       "        <td>8</td>\n",
       "        <td>par_008_index</td>\n",
       "        <td>2.39394</td>\n",
       "        <td>0.00385296</td>\n",
       "        <td></td>\n",
       "        <td></td>\n",
       "        <td></td>\n",
       "        <td></td>\n",
       "        <td>No</td>\n",
       "    </tr>\n",
       "    <tr>\n",
       "        <td>9</td>\n",
       "        <td>par_009_amplitude</td>\n",
       "        <td>0.892565</td>\n",
       "        <td>0.00450664</td>\n",
       "        <td></td>\n",
       "        <td></td>\n",
       "        <td></td>\n",
       "        <td></td>\n",
       "        <td>No</td>\n",
       "    </tr>\n",
       "    <tr>\n",
       "        <td>10</td>\n",
       "        <td>par_010_reference</td>\n",
       "        <td>1</td>\n",
       "        <td>1</td>\n",
       "        <td></td>\n",
       "        <td></td>\n",
       "        <td>0</td>\n",
       "        <td></td>\n",
       "        <td>Yes</td>\n",
       "    </tr>\n",
       "    <tr>\n",
       "        <td>11</td>\n",
       "        <td>par_011_lon_0</td>\n",
       "        <td>3.58872</td>\n",
       "        <td>1</td>\n",
       "        <td></td>\n",
       "        <td></td>\n",
       "        <td></td>\n",
       "        <td></td>\n",
       "        <td>Yes</td>\n",
       "    </tr>\n",
       "    <tr>\n",
       "        <td>12</td>\n",
       "        <td>par_012_lat_0</td>\n",
       "        <td>-0.578</td>\n",
       "        <td>1</td>\n",
       "        <td></td>\n",
       "        <td></td>\n",
       "        <td></td>\n",
       "        <td></td>\n",
       "        <td>Yes</td>\n",
       "    </tr>\n",
       "    <tr>\n",
       "        <td>13</td>\n",
       "        <td>par_013_sigma</td>\n",
       "        <td>0.17472</td>\n",
       "        <td>0.000558393</td>\n",
       "        <td></td>\n",
       "        <td></td>\n",
       "        <td>0</td>\n",
       "        <td>0.4</td>\n",
       "        <td>No</td>\n",
       "    </tr>\n",
       "    <tr>\n",
       "        <td>14</td>\n",
       "        <td>par_014_index</td>\n",
       "        <td>2.69487</td>\n",
       "        <td>0.00363408</td>\n",
       "        <td></td>\n",
       "        <td></td>\n",
       "        <td></td>\n",
       "        <td></td>\n",
       "        <td>No</td>\n",
       "    </tr>\n",
       "    <tr>\n",
       "        <td>15</td>\n",
       "        <td>par_015_amplitude</td>\n",
       "        <td>0.22454</td>\n",
       "        <td>0.00129368</td>\n",
       "        <td></td>\n",
       "        <td></td>\n",
       "        <td>0</td>\n",
       "        <td></td>\n",
       "        <td>No</td>\n",
       "    </tr>\n",
       "    <tr>\n",
       "        <td>16</td>\n",
       "        <td>par_016_reference</td>\n",
       "        <td>1</td>\n",
       "        <td>1</td>\n",
       "        <td></td>\n",
       "        <td></td>\n",
       "        <td>0</td>\n",
       "        <td></td>\n",
       "        <td>Yes</td>\n",
       "    </tr>\n",
       "    <tr>\n",
       "        <td>17</td>\n",
       "        <td>par_017_norm</td>\n",
       "        <td>0.798896</td>\n",
       "        <td>0.000873848</td>\n",
       "        <td></td>\n",
       "        <td></td>\n",
       "        <td>0</td>\n",
       "        <td>1.2</td>\n",
       "        <td>No</td>\n",
       "    </tr>\n",
       "</table>\n",
       "<pre id=\"nBsyOmbJig\" style=\"display:none;\">\n",
       "<textarea rows=\"42\" cols=\"50\" onclick=\"this.select()\" readonly>\n",
       "\\begin{tabular}{|c|r|r|r|r|r|r|r|c|}\n",
       "\\hline\n",
       " & Name & Value & Hesse Error & Minos Error- & Minos Error+ & Limit- & Limit+ & Fixed?\\\\\n",
       "\\hline\n",
       "0 & par 000 $lon_{0}$ & -0.551909 & 1 &  &  &  &  & Yes\\\\\n",
       "\\hline\n",
       "1 & par 001 $lat_{0}$ & -0.463434 & 1 &  &  &  &  & Yes\\\\\n",
       "\\hline\n",
       "2 & par $002_{index}$ & 2.13783 & 0.00377087 &  &  &  &  & No\\\\\n",
       "\\hline\n",
       "3 & par $003_{amplitude}$ & 0.266812 & 0.0012214 &  &  &  &  & No\\\\\n",
       "\\hline\n",
       "4 & par $004_{reference}$ & 1 & 1 &  &  &  &  & Yes\\\\\n",
       "\\hline\n",
       "5 & par 005 $\\lambda_{}$ & 0.953468 & 0.0179427 &  &  &  &  & No\\\\\n",
       "\\hline\n",
       "6 & par 006 $lon_{0}$ & 0.863329 & 1 &  &  &  &  & Yes\\\\\n",
       "\\hline\n",
       "7 & par 007 $lat_{0}$ & 0.902297 & 1 &  &  &  &  & Yes\\\\\n",
       "\\hline\n",
       "8 & par $008_{index}$ & 2.39394 & 0.00385296 &  &  &  &  & No\\\\\n",
       "\\hline\n",
       "9 & par $009_{amplitude}$ & 0.892565 & 0.00450664 &  &  &  &  & No\\\\\n",
       "\\hline\n",
       "10 & par $010_{reference}$ & 1 & 1 &  &  & 0.0 &  & Yes\\\\\n",
       "\\hline\n",
       "11 & par 011 $lon_{0}$ & 3.58872 & 1 &  &  &  &  & Yes\\\\\n",
       "\\hline\n",
       "12 & par 012 $lat_{0}$ & -0.578 & 1 &  &  &  &  & Yes\\\\\n",
       "\\hline\n",
       "13 & par $013_{\\sigma}$ & 0.17472 & 0.000558393 &  &  & 0.0 & 0.4 & No\\\\\n",
       "\\hline\n",
       "14 & par $014_{index}$ & 2.69487 & 0.00363408 &  &  &  &  & No\\\\\n",
       "\\hline\n",
       "15 & par $015_{amplitude}$ & 0.22454 & 0.00129368 &  &  & 0.0 &  & No\\\\\n",
       "\\hline\n",
       "16 & par $016_{reference}$ & 1 & 1 &  &  & 0.0 &  & Yes\\\\\n",
       "\\hline\n",
       "17 & par $017_{norm}$ & 0.798896 & 0.000873848 &  &  & 0.0 & 1.2 & No\\\\\n",
       "\\hline\n",
       "\\end{tabular}\n",
       "</textarea>\n",
       "</pre>"
      ]
     },
     "metadata": {},
     "output_type": "display_data"
    },
    {
     "data": {
      "text/html": [
       "<hr>"
      ]
     },
     "metadata": {},
     "output_type": "display_data"
    },
    {
     "name": "stdout",
     "output_type": "stream",
     "text": [
      "CPU times: user 6min 5s, sys: 18.5 s, total: 6min 24s\n",
      "Wall time: 6min 25s\n"
     ]
    }
   ],
   "source": [
    "%%time\n",
    "result_combined_2 = fit_combined_2.run(optimize_opts={\"print_level\": 1})"
   ]
  },
  {
   "cell_type": "code",
   "execution_count": 80,
   "metadata": {},
   "outputs": [],
   "source": [
    "npred_combined_2 = fit_combined_2.evaluator.compute_npred()\n",
    "\n",
    "residual_comb = Map.from_geom(cmaps[\"counts\"].geom)\n",
    "residual_comb.data = cmaps[\"counts\"].data - npred_combined_2.data"
   ]
  },
  {
   "cell_type": "code",
   "execution_count": 81,
   "metadata": {},
   "outputs": [
    {
     "data": {
      "image/png": "[encoded data removed]",
      "text/plain": [
       "<matplotlib.figure.Figure at 0x7fc22f145748>"
      ]
     },
     "metadata": {
      "needs_background": "light"
     },
     "output_type": "display_data"
    }
   ],
   "source": [
    "plt.figure(figsize=(15, 5))\n",
    "ax_1 = plt.subplot(121, projection=residual.geom.wcs)\n",
    "ax_2 = plt.subplot(122, projection=residual.geom.wcs)\n",
    "\n",
    "ax_1.set_title(\"Without diffuse emission subtraction\")\n",
    "ax_2.set_title(\"With diffuse emission subtraction\")\n",
    "\n",
    "residual.sum_over_axes().smooth(width=0.05 * u.deg).plot(\n",
    "    cmap=\"coolwarm\", vmin = -800, vmax=800, add_cbar=True, ax=ax_1\n",
    ");\n",
    "residual_comb.sum_over_axes().smooth(width=0.05 * u.deg).plot(\n",
    "    cmap=\"coolwarm\", vmin = -300, vmax=300, add_cbar=True, ax=ax_2\n",
    ");"
   ]
  },
  {
   "cell_type": "code",
   "execution_count": null,
   "metadata": {},
   "outputs": [],
   "source": []
  }
 ],
 "metadata": {
  "kernelspec": {
   "display_name": "Python 3",
   "language": "python",
   "name": "python3"
  },
  "language_info": {
   "codemirror_mode": {
    "name": "ipython",
    "version": 3
   },
   "file_extension": ".py",
   "mimetype": "text/x-python",
   "name": "python",
   "nbconvert_exporter": "python",
   "pygments_lexer": "ipython3",
   "version": "3.6.0"
  }
 },
 "nbformat": 4,
 "nbformat_minor": 2
}
